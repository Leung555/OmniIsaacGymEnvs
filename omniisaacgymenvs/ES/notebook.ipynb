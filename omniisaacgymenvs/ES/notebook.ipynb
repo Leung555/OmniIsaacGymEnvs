{
 "cells": [
  {
   "attachments": {},
   "cell_type": "markdown",
   "metadata": {},
   "source": [
    "# RBF neural net"
   ]
  },
  {
   "cell_type": "code",
   "execution_count": 2,
   "metadata": {},
   "outputs": [],
   "source": [
    "from math import *\n",
    "import numpy as np\n",
    "import matplotlib.pyplot as plt\n",
    "import torch"
   ]
  },
  {
   "cell_type": "code",
   "execution_count": null,
   "metadata": {},
   "outputs": [],
   "source": [
    "# cpg model parameters\n",
    "MI = 0.02\n",
    "b1 = 0.01\n",
    "b2 = 0.01\n",
    "w11 = 1.4\n",
    "w12 = 0.18 + MI\n",
    "w21 = -0.18 - MI\n",
    "w22 = 1.4\n",
    "o1 = 0.01\n",
    "o2 = 0.01\n",
    "# W = [[w11,w21],[w12,w22]]\n",
    "# O = [o1, o2]"
   ]
  },
  {
   "cell_type": "code",
   "execution_count": null,
   "metadata": {},
   "outputs": [],
   "source": [
    "# cpg running\n",
    "cpg_out = []\n",
    "for i in range(300):\n",
    "    o1 = tanh(o1*w11 + o2*w12 )\n",
    "    o2 = tanh(o2*w22 + o1*w21 )\n",
    "    cpg_out.append([o1, o2])\n",
    "cpg_out = np.array(cpg_out)\n",
    "plt.figure(figsize=(4,2))\n",
    "plt.plot(cpg_out[:,0])\n",
    "plt.plot(cpg_out[:,1])\n",
    "# cpg_out"
   ]
  },
  {
   "cell_type": "code",
   "execution_count": null,
   "metadata": {},
   "outputs": [],
   "source": [
    "# SO2 oscillator from paper\n",
    "cpg_out = []\n",
    "omega = 0.01*pi\n",
    "o1, o2 = 0.01, 0.01\n",
    "for i in range(1000):\n",
    "    o1 = tanh(1.01*( o1*cos(omega) + o2*sin(omega)))\n",
    "    o2 = tanh(1.01*(-o1*sin(omega) + o2*cos(omega)))\n",
    "    cpg_out.append([o1, o2])\n",
    "cpg_out = np.array(cpg_out)\n",
    "plt.figure(figsize=(4,2))\n",
    "plt.plot(cpg_out[:,0])\n",
    "plt.plot(cpg_out[:,1])\n",
    "# cpg_out"
   ]
  },
  {
   "cell_type": "code",
   "execution_count": null,
   "metadata": {},
   "outputs": [],
   "source": [
    "import numpy as np\n",
    "import matplotlib.pyplot as plt\n",
    "\n",
    "def generate_rbf_array(input_range, num_basis, centers, widths, weights):\n",
    "    \"\"\"\n",
    "    Generates an array of Radial Basis Functions (RBFs) over a given input range.\n",
    "\n",
    "    Args:\n",
    "        input_range (tuple): Range of the input values (e.g., (0, 1)).\n",
    "        num_basis (int): Number of basis functions.\n",
    "        centers (ndarray): Array of centers for the basis functions.\n",
    "        widths (ndarray): Array of widths for the basis functions.\n",
    "\n",
    "    Returns:\n",
    "        ndarray: Array of RBFs evaluated over the input range.\n",
    "    \"\"\"\n",
    "    x = np.linspace(input_range[0], input_range[1], num=100)\n",
    "    rbf_array = np.zeros((num_basis, len(x)))\n",
    "\n",
    "    for i in range(num_basis):\n",
    "        rbf_array[i] = weights[i]*np.exp(-widths[i] * (x - centers[i]) ** 2)\n",
    "\n",
    "    return rbf_array\n",
    "\n",
    "# Example usage\n",
    "input_range = (-1, 1)\n",
    "num_basis = 10\n",
    "centers = np.linspace(input_range[0], input_range[1], num=num_basis)\n",
    "widths = np.ones(num_basis) * 100\n",
    "weights = np.random.randint(input_range[0], input_range[1]+1, 10,)\n",
    "\n",
    "rbf_array = generate_rbf_array(input_range, num_basis, centers, widths, weights)\n",
    "\n",
    "# Plotting the RBFs\n",
    "plt.figure(figsize=(8, 3))\n",
    "for i in range(num_basis):\n",
    "    plt.plot(np.linspace(input_range[0], input_range[1], num=100), rbf_array[i], label=f'RBF {i+1}')\n",
    "plt.xlabel('Input')\n",
    "plt.ylabel('RBF Value')\n",
    "plt.title('Array of Radial Basis Functions')\n",
    "# plt.legend()\n",
    "plt.show()"
   ]
  },
  {
   "cell_type": "code",
   "execution_count": null,
   "metadata": {},
   "outputs": [],
   "source": [
    "weights"
   ]
  },
  {
   "cell_type": "code",
   "execution_count": null,
   "metadata": {},
   "outputs": [],
   "source": [
    "# cycle checker\n",
    "T_step = 0\n",
    "counter = 0\n",
    "o1_p = 0\n",
    "# for i in range(10000):\n",
    "#     o1 = math.tanh(o1*w11 + o2*w12 )\n",
    "#     o2 = math.tanh(o2*w22 + o1*w21 )\n",
    "cpg_out = []\n",
    "omega = 0.01*pi\n",
    "o1, o2 = 0.01, 0.01\n",
    "cpg_out = []\n",
    "# Rbf network\n",
    "input_range = (-1, 1)\n",
    "num_basis = 10\n",
    "centers = np.linspace(input_range[0], input_range[1], num=num_basis)\n",
    "widths = np.ones(num_basis) * 100\n",
    "x = np.linspace(input_range[0], input_range[1], num=100)\n",
    "# weights = np.arange(input_range[0], input_range[1], 0.1)\n",
    "rbf_array = np.zeros((num_basis, len(x)))\n",
    "T_step = 201\n",
    "phase = 0 # phase of oscillator\n",
    "phase_array = []\n",
    "for step in range(376):\n",
    "    o1 = tanh(1.01*( o1*cos(omega) + o2*sin(omega)))\n",
    "    o2 = tanh(1.01*(-o1*sin(omega) + o2*cos(omega)))\n",
    "\n",
    "for step in range(600):\n",
    "    o1 = tanh(1.01*( o1*cos(omega) + o2*sin(omega)))\n",
    "    o2 = tanh(1.01*(-o1*sin(omega) + o2*cos(omega)))\n",
    "    # phase = counter/T_step\n",
    "    # print(t)\n",
    "    # phase_array.append(phase)\n",
    "    # cpg_out.append(o1)\n",
    "    # counter += 1\n",
    "    if o1_p < 0 and o1 > 0:\n",
    "        T_step = counter\n",
    "        print('T_step', T_step)\n",
    "        print(T_step)\n",
    "        print(o1_p, o1)\n",
    "        print('cpg_out: ', len(cpg_out))\n",
    "        print('phase_array: ', len(phase_array))\n",
    "        # print('x: ', x)\n",
    "        # RBF function\n",
    "        rbf_array = np.zeros((num_basis, T_step))\n",
    "        print('rbf_array: ', rbf_array.shape)\n",
    "        for i in range(num_basis):\n",
    "            rbf_array[i] = np.exp(-widths[i] * (phase_array - centers[i]) ** 2)\n",
    "        counter = 0\n",
    "        # Plotting the RBFs\n",
    "        # plt.figure(figsize=(8, 3))\n",
    "        # for i in range(num_basis):\n",
    "        #     plt.plot(np.linspace(input_range[0], input_range[1], num=len(phase_array)), rbf_array[i], label=f'RBF {i+1}')\n",
    "        # plt.plot(phase_array, np.sum(rbf_array, axis=0))\n",
    "        # plt.plot(phase_array, cpg_out)\n",
    "        # plt.xlabel('Input')\n",
    "        # plt.ylabel('RBF Value')\n",
    "        # plt.title('Array of Radial Basis Functions')\n",
    "        # # plt.legend()\n",
    "        # plt.show()\n",
    "        cpg_out = []\n",
    "        phase_array = []\n",
    "    o1_p = o1\n"
   ]
  },
  {
   "cell_type": "code",
   "execution_count": null,
   "metadata": {},
   "outputs": [],
   "source": [
    "# RBF network re-produce paper\n",
    "T_step = 0\n",
    "counter = 0\n",
    "o1_p = 0\n",
    "# for i in range(10000):\n",
    "#     o1 = math.tanh(o1*w11 + o2*w12 )\n",
    "#     o2 = math.tanh(o2*w22 + o1*w21 )\n",
    "cpg_out = []\n",
    "omega = 0.01*pi\n",
    "o1, o2 = 0.01, 0.01\n",
    "cpg_out = []\n",
    "# Rbf network\n",
    "input_range = (-1, 1)\n",
    "num_basis = 20\n",
    "num_output = 2\n",
    "centers = np.linspace(input_range[0], input_range[1], num=num_basis)\n",
    "# widths = np.ones(num_basis) * 100\n",
    "variance = 1/0.04\n",
    "x = np.linspace(input_range[0], input_range[1], num=100)\n",
    "# weights = np.arange(input_range[0], input_range[1], 0.1)\n",
    "# weights = np.random.randint(input_range[0], input_range[1]+1, num_basis,)\n",
    "weights = np.random.randn(num_output, num_basis)\n",
    "\n",
    "# rbf_array = np.zeros((num_basis, len(x)))\n",
    "rbf_array = []\n",
    "T_step = 201\n",
    "phase = 0 # phase of oscillator\n",
    "phase_array = []\n",
    "for step in range(376):\n",
    "    o1 = tanh(1.01*( o1*cos(omega) + o2*sin(omega)))\n",
    "    o2 = tanh(1.01*(-o1*sin(omega) + o2*cos(omega)))\n",
    "    print('o1, o2: ', o1, o2)\n",
    "\n",
    "for step in range(1000):\n",
    "    o1 = tanh(1.01*( o1*cos(omega) + o2*sin(omega)))\n",
    "    o2 = tanh(1.01*(-o1*sin(omega) + o2*cos(omega)))\n",
    "    cpg_out = [[o1], [o2]]\n",
    "    # print('o1', o1)\n",
    "    rbf_array.append(np.sum(weights*np.exp(-variance*(cpg_out - centers) ** 2), axis=1))\n",
    "    \n",
    "    if o1_p < 0 and o1 > 0:\n",
    "        counter = 0\n",
    "        plt.plot(rbf_array)\n",
    "        rbf_array = []\n",
    "        weights = np.random.randn(num_output, num_basis)\n",
    "        # print('weights: ', weights)\n",
    "    o1_p = o1\n"
   ]
  },
  {
   "cell_type": "code",
   "execution_count": null,
   "metadata": {},
   "outputs": [],
   "source": [
    "from rbf_neural_net import RBFNet"
   ]
  },
  {
   "cell_type": "code",
   "execution_count": null,
   "metadata": {},
   "outputs": [],
   "source": [
    "model = RBFNet(1)"
   ]
  },
  {
   "cell_type": "code",
   "execution_count": null,
   "metadata": {},
   "outputs": [],
   "source": [
    "output = []\n",
    "for i in range(300):\n",
    "    output.append(model.forward())\n",
    "    # print('output: ', output)\n",
    "plt.plot(output)"
   ]
  },
  {
   "cell_type": "code",
   "execution_count": null,
   "metadata": {},
   "outputs": [],
   "source": []
  },
  {
   "attachments": {},
   "cell_type": "markdown",
   "metadata": {},
   "source": [
    "### Test RBF GPU version"
   ]
  },
  {
   "cell_type": "code",
   "execution_count": 3,
   "metadata": {},
   "outputs": [],
   "source": [
    "POPSIZE = 2\n",
    "omega = 0.01*np.pi\n",
    "o1 = torch.Tensor.repeat(torch.Tensor([0.00]), POPSIZE).unsqueeze(1)\n",
    "o2 = torch.Tensor.repeat(torch.Tensor([0.18]), POPSIZE).unsqueeze(1)\n",
    "O = torch.Tensor([[0.01, 0.18]]).expand(POPSIZE, 2)\n",
    "# Rbf network\n",
    "input_range = (-1, 1)\n",
    "num_basis = 10\n",
    "num_output = 3\n",
    "centers = torch.linspace(input_range[0], input_range[1], num_basis)\n",
    "variance = 1/0.04\n",
    "weights = torch.randn(num_basis, POPSIZE, num_output,)\n",
    "rbf_array = []\n",
    "W = torch.Tensor([[ cos(omega) ,  -sin(omega)], \n",
    "                  [ sin(omega) ,  cos(omega)]])"
   ]
  },
  {
   "cell_type": "code",
   "execution_count": 4,
   "metadata": {},
   "outputs": [
    {
     "ename": "RuntimeError",
     "evalue": "The size of tensor a (3) must match the size of tensor b (2) at non-singleton dimension 2",
     "output_type": "error",
     "traceback": [
      "\u001b[0;31m---------------------------------------------------------------------------\u001b[0m",
      "\u001b[0;31mRuntimeError\u001b[0m                              Traceback (most recent call last)",
      "Cell \u001b[0;32mIn[4], line 10\u001b[0m\n\u001b[1;32m      6\u001b[0m O \u001b[39m=\u001b[39m torch\u001b[39m.\u001b[39mtanh(\u001b[39m1.01\u001b[39m\u001b[39m*\u001b[39mtorch\u001b[39m.\u001b[39mmatmul(O, W))\n\u001b[1;32m      7\u001b[0m \u001b[39m# print('o1', o1)\u001b[39;00m\n\u001b[1;32m      8\u001b[0m \u001b[39m# posto1 = torch.sum(weights[0]*np.exp(variance*(o1 - centers)), dim=1)\u001b[39;00m\n\u001b[1;32m      9\u001b[0m \u001b[39m# posto2 = torch.sum(weights[1]*np.exp(variance*(o2 - centers)), dim=1)\u001b[39;00m\n\u001b[0;32m---> 10\u001b[0m post \u001b[39m=\u001b[39m weights\u001b[39m*\u001b[39;49mtorch\u001b[39m.\u001b[39;49mexp(\u001b[39m-\u001b[39;49mvariance\u001b[39m*\u001b[39;49m(O \u001b[39m-\u001b[39;49m \n\u001b[1;32m     11\u001b[0m     centers\u001b[39m.\u001b[39;49mexpand(POPSIZE\u001b[39m*\u001b[39;49m\u001b[39m2\u001b[39;49m,num_basis)\u001b[39m.\u001b[39;49mtranspose(\u001b[39m0\u001b[39;49m,\u001b[39m1\u001b[39;49m)\u001b[39m.\u001b[39;49m\n\u001b[1;32m     12\u001b[0m     reshape(num_basis,POPSIZE,\u001b[39m2\u001b[39;49m)) \u001b[39m*\u001b[39;49m\u001b[39m*\u001b[39;49m \u001b[39m2\u001b[39;49m)\n\u001b[1;32m     14\u001b[0m \u001b[39m# cpg_out = torch.stack([posto1,posto2])\u001b[39;00m\n\u001b[1;32m     15\u001b[0m output\u001b[39m.\u001b[39mappend(post\u001b[39m.\u001b[39mtolist())\n",
      "\u001b[0;31mRuntimeError\u001b[0m: The size of tensor a (3) must match the size of tensor b (2) at non-singleton dimension 2"
     ]
    }
   ],
   "source": [
    "output = []\n",
    "with torch.no_grad():\n",
    "    for i in range(400):\n",
    "        # o1 = torch.tanh(1.01*( o1p*cos(omega) + o2p*sin(omega)))\n",
    "        # o2 = torch.tanh(1.01*(-o1p*sin(omega) + o2p*cos(omega)))\n",
    "        O = torch.tanh(1.01*torch.matmul(O, W))\n",
    "        # print('o1', o1)\n",
    "        # posto1 = torch.sum(weights[0]*np.exp(variance*(o1 - centers)), dim=1)\n",
    "        # posto2 = torch.sum(weights[1]*np.exp(variance*(o2 - centers)), dim=1)\n",
    "        post = weights*torch.exp(-variance*(O - \n",
    "            centers.expand(POPSIZE*2,num_basis).transpose(0,1).\n",
    "            reshape(num_basis,POPSIZE,2)) ** 2)\n",
    "        \n",
    "        # cpg_out = torch.stack([posto1,posto2])\n",
    "        output.append(post.tolist())\n",
    "        o1p = o1\n",
    "        o2p = o2\n",
    "    print(torch.sum(post, dim=[0,2]).unsqueeze(1))\n",
    "plt.plot(np.array(output)[:,0,0])\n",
    "plt.plot(np.array(output)[:,0,1])\n",
    "# plt.plot(output[:,1:2])"
   ]
  },
  {
   "cell_type": "code",
   "execution_count": 5,
   "metadata": {},
   "outputs": [
    {
     "ename": "RuntimeError",
     "evalue": "The size of tensor a (3) must match the size of tensor b (2) at non-singleton dimension 2",
     "output_type": "error",
     "traceback": [
      "\u001b[0;31m---------------------------------------------------------------------------\u001b[0m",
      "\u001b[0;31mRuntimeError\u001b[0m                              Traceback (most recent call last)",
      "Cell \u001b[0;32mIn[5], line 1\u001b[0m\n\u001b[0;32m----> 1\u001b[0m weights\u001b[39m*\u001b[39;49mtorch\u001b[39m.\u001b[39;49mexp(\u001b[39m-\u001b[39;49mvariance\u001b[39m*\u001b[39;49m(O \u001b[39m-\u001b[39;49m \n\u001b[1;32m      2\u001b[0m             centers\u001b[39m.\u001b[39;49mexpand(POPSIZE\u001b[39m*\u001b[39;49m\u001b[39m2\u001b[39;49m,num_basis)\u001b[39m.\u001b[39;49mtranspose(\u001b[39m0\u001b[39;49m,\u001b[39m1\u001b[39;49m)\u001b[39m.\u001b[39;49m\n\u001b[1;32m      3\u001b[0m             reshape(num_basis,POPSIZE,\u001b[39m2\u001b[39;49m)) \u001b[39m*\u001b[39;49m\u001b[39m*\u001b[39;49m \u001b[39m2\u001b[39;49m)\n",
      "\u001b[0;31mRuntimeError\u001b[0m: The size of tensor a (3) must match the size of tensor b (2) at non-singleton dimension 2"
     ]
    }
   ],
   "source": [
    "weights*torch.exp(-variance*(O - \n",
    "            centers.expand(POPSIZE*2,num_basis).transpose(0,1).\n",
    "            reshape(num_basis,POPSIZE,2)) ** 2)"
   ]
  },
  {
   "cell_type": "code",
   "execution_count": 6,
   "metadata": {},
   "outputs": [
    {
     "data": {
      "text/plain": [
       "tensor([[[6.2624e-12, 7.8854e-16],\n",
       "         [6.2624e-12, 7.8854e-16]],\n",
       "\n",
       "        [[1.4532e-07, 1.1272e-10],\n",
       "         [1.4532e-07, 1.1272e-10]],\n",
       "\n",
       "        [[2.8549e-04, 1.3640e-06],\n",
       "         [2.8549e-04, 1.3640e-06]],\n",
       "\n",
       "        [[4.7481e-02, 1.3974e-03],\n",
       "         [4.7481e-02, 1.3974e-03]],\n",
       "\n",
       "        [[6.6852e-01, 1.2120e-01],\n",
       "         [6.6852e-01, 1.2120e-01]],\n",
       "\n",
       "        [[7.9685e-01, 8.8987e-01],\n",
       "         [7.9685e-01, 8.8987e-01]],\n",
       "\n",
       "        [[8.0410e-02, 5.5313e-01],\n",
       "         [8.0410e-02, 5.5313e-01]],\n",
       "\n",
       "        [[6.8692e-04, 2.9107e-02],\n",
       "         [6.8692e-04, 2.9107e-02]],\n",
       "\n",
       "        [[4.9679e-07, 1.2967e-04],\n",
       "         [4.9679e-07, 1.2967e-04]],\n",
       "\n",
       "        [[3.0417e-11, 4.8904e-08],\n",
       "         [3.0417e-11, 4.8904e-08]]])"
      ]
     },
     "execution_count": 6,
     "metadata": {},
     "output_type": "execute_result"
    }
   ],
   "source": [
    "torch.exp(-variance*(O - \n",
    "            centers.expand(POPSIZE*2,num_basis).transpose(0,1).\n",
    "            reshape(num_basis,POPSIZE,2)) ** 2)"
   ]
  },
  {
   "cell_type": "code",
   "execution_count": 7,
   "metadata": {},
   "outputs": [
    {
     "data": {
      "text/plain": [
       "tensor([[[ 1.3960,  0.8463,  0.5061],\n",
       "         [ 0.2773,  0.3979, -0.8531]],\n",
       "\n",
       "        [[-0.0276,  1.5780,  0.2846],\n",
       "         [-1.6488,  0.4776, -0.2948]],\n",
       "\n",
       "        [[-0.3185,  1.6473,  0.2779],\n",
       "         [-1.0182, -0.2150, -0.4937]],\n",
       "\n",
       "        [[ 2.1363, -0.3781,  1.9848],\n",
       "         [-1.3986, -0.7353,  3.0488]],\n",
       "\n",
       "        [[-0.4251,  1.1283, -0.0130],\n",
       "         [-1.8840,  1.9454,  0.4473]],\n",
       "\n",
       "        [[ 1.5352, -0.8769,  1.8093],\n",
       "         [-0.3514, -1.3196, -0.5822]],\n",
       "\n",
       "        [[ 0.7504,  0.7699, -0.9024],\n",
       "         [ 0.0642, -0.7769,  0.9157]],\n",
       "\n",
       "        [[-0.5078, -0.7582, -0.3647],\n",
       "         [-1.2193,  0.3764, -0.4377]],\n",
       "\n",
       "        [[ 0.5861, -0.2080, -1.1104],\n",
       "         [ 0.4127, -1.8124, -0.2593]],\n",
       "\n",
       "        [[-0.5691,  0.3451,  0.3546],\n",
       "         [-0.1559,  1.0370, -1.4523]]])"
      ]
     },
     "execution_count": 7,
     "metadata": {},
     "output_type": "execute_result"
    }
   ],
   "source": [
    "weights"
   ]
  },
  {
   "cell_type": "code",
   "execution_count": 33,
   "metadata": {},
   "outputs": [
    {
     "data": {
      "text/plain": [
       "tensor([[-1.3842e-10, -2.6447e-16],\n",
       "        [ 1.7015e-10,  3.2509e-16]])"
      ]
     },
     "execution_count": 33,
     "metadata": {},
     "output_type": "execute_result"
    }
   ],
   "source": [
    "a = weights*np.exp(-variance*(O - \n",
    "            centers.expand(POPSIZE*2,num_basis).transpose(0,1).\n",
    "            reshape(num_basis,POPSIZE,2)) ** 2)\n",
    "torch.sum(torch.eye)"
   ]
  },
  {
   "cell_type": "code",
   "execution_count": 37,
   "metadata": {},
   "outputs": [
    {
     "ename": "TypeError",
     "evalue": "eye() received an invalid combination of arguments - got (int, int, int), but expected one of:\n * (int n, *, Tensor out, torch.dtype dtype, torch.layout layout, torch.device device, bool pin_memory, bool requires_grad)\n * (int n, int m, *, Tensor out, torch.dtype dtype, torch.layout layout, torch.device device, bool pin_memory, bool requires_grad)\n",
     "output_type": "error",
     "traceback": [
      "\u001b[0;31m---------------------------------------------------------------------------\u001b[0m",
      "\u001b[0;31mTypeError\u001b[0m                                 Traceback (most recent call last)",
      "Cell \u001b[0;32mIn[37], line 1\u001b[0m\n\u001b[0;32m----> 1\u001b[0m torch\u001b[39m.\u001b[39msum(torch\u001b[39m.\u001b[39;49meye(\u001b[39m2\u001b[39;49m,\u001b[39m2\u001b[39;49m,\u001b[39m2\u001b[39;49m), dim\u001b[39m=\u001b[39m[\u001b[39m0\u001b[39m])\n",
      "\u001b[0;31mTypeError\u001b[0m: eye() received an invalid combination of arguments - got (int, int, int), but expected one of:\n * (int n, *, Tensor out, torch.dtype dtype, torch.layout layout, torch.device device, bool pin_memory, bool requires_grad)\n * (int n, int m, *, Tensor out, torch.dtype dtype, torch.layout layout, torch.device device, bool pin_memory, bool requires_grad)\n"
     ]
    }
   ],
   "source": [
    "torch.sum(torch.eye(2,2,2), dim=[0])"
   ]
  },
  {
   "cell_type": "code",
   "execution_count": 56,
   "metadata": {},
   "outputs": [
    {
     "data": {
      "text/plain": [
       "tensor([[2., 4.],\n",
       "        [0., 0.]])"
      ]
     },
     "execution_count": 56,
     "metadata": {},
     "output_type": "execute_result"
    }
   ],
   "source": [
    "torch.sum(torch.Tensor([[[1,1], \n",
    "            [2,2]], \n",
    "            [[0,0], \n",
    "            [0,0]]]), dim=[2])"
   ]
  },
  {
   "cell_type": "code",
   "execution_count": null,
   "metadata": {},
   "outputs": [],
   "source": [
    "# torch.einsum('bp,bqr->bpqr', v, M) # batch-wise operation v.shape=(b,p) M.shape=(b,q,r)\n",
    "# torch.einsum('p,qr->pqr', v, M)    # cross-batch operation\n",
    "\n",
    "torch.einsum('p,qr->pqr', -centers, O)    # cross-batch operation\n"
   ]
  },
  {
   "cell_type": "code",
   "execution_count": 2,
   "metadata": {},
   "outputs": [
    {
     "name": "stdout",
     "output_type": "stream",
     "text": [
      "tensor([[0.0100, 0.1800]])\n"
     ]
    }
   ],
   "source": [
    "from rbf_neural_net import RBFNet\n",
    "model = RBFNet(2, 1)"
   ]
  },
  {
   "cell_type": "code",
   "execution_count": 4,
   "metadata": {},
   "outputs": [
    {
     "data": {
      "text/plain": [
       "tensor([-1.1732, -3.1462], device='cuda:0')"
      ]
     },
     "execution_count": 4,
     "metadata": {},
     "output_type": "execute_result"
    }
   ],
   "source": [
    "model.forward([1])"
   ]
  },
  {
   "cell_type": "code",
   "execution_count": 18,
   "metadata": {},
   "outputs": [
    {
     "data": {
      "text/plain": [
       "array([ 0.06230127,  0.25622773, -1.4507684 , -0.776767  ,  1.1257079 ,\n",
       "        0.26371974,  0.291008  , -1.3694811 ,  1.1670934 ,  0.3386766 ],\n",
       "      dtype=float32)"
      ]
     },
     "execution_count": 18,
     "metadata": {},
     "output_type": "execute_result"
    }
   ],
   "source": [
    "model.get_params_a_model()"
   ]
  },
  {
   "cell_type": "code",
   "execution_count": 5,
   "metadata": {},
   "outputs": [
    {
     "data": {
      "text/plain": [
       "array([ 1.4102287 ,  0.6277361 ,  0.56547713, -1.6088862 , -1.5049154 ,\n",
       "        0.5314756 , -0.05568573, -0.02828681,  0.03879198, -0.01754425,\n",
       "       -0.30321008,  0.0839266 , -0.40492538,  0.5860087 ,  0.31059295,\n",
       "        0.4826061 , -0.31220606,  0.16438088,  0.09907182,  1.1455259 ],\n",
       "      dtype=float32)"
      ]
     },
     "execution_count": 5,
     "metadata": {},
     "output_type": "execute_result"
    }
   ],
   "source": [
    "model.get_params()"
   ]
  },
  {
   "cell_type": "code",
   "execution_count": 6,
   "metadata": {},
   "outputs": [
    {
     "data": {
      "text/plain": [
       "tensor([[[ 1.4102],\n",
       "         [ 0.6277]],\n",
       "\n",
       "        [[ 0.5655],\n",
       "         [-1.6089]],\n",
       "\n",
       "        [[-1.5049],\n",
       "         [ 0.5315]],\n",
       "\n",
       "        [[-0.0557],\n",
       "         [-0.0283]],\n",
       "\n",
       "        [[ 0.0388],\n",
       "         [-0.0175]],\n",
       "\n",
       "        [[-0.3032],\n",
       "         [ 0.0839]],\n",
       "\n",
       "        [[-0.4049],\n",
       "         [ 0.5860]],\n",
       "\n",
       "        [[ 0.3106],\n",
       "         [ 0.4826]],\n",
       "\n",
       "        [[-0.3122],\n",
       "         [ 0.1644]],\n",
       "\n",
       "        [[ 0.0991],\n",
       "         [ 1.1455]]], device='cuda:0')"
      ]
     },
     "execution_count": 6,
     "metadata": {},
     "output_type": "execute_result"
    }
   ],
   "source": [
    "model.weights"
   ]
  },
  {
   "cell_type": "code",
   "execution_count": 7,
   "metadata": {},
   "outputs": [],
   "source": [
    "model.set_params(np.random.randn(2,1,10).flatten())"
   ]
  },
  {
   "cell_type": "code",
   "execution_count": 8,
   "metadata": {},
   "outputs": [
    {
     "data": {
      "text/plain": [
       "array([-1.01640666,  0.84860013,  1.79264544,  0.09459468, -0.80453952,\n",
       "       -0.68723667,  0.04438239,  1.53936716, -1.13220157, -0.67814333,\n",
       "       -0.02244636, -1.22416589,  2.59157711, -2.3961546 , -1.67875475,\n",
       "       -0.52285505,  0.45370571, -0.69159209,  0.38836375,  2.1324957 ])"
      ]
     },
     "execution_count": 8,
     "metadata": {},
     "output_type": "execute_result"
    }
   ],
   "source": [
    "np.random.randn(2,1,10).flatten()"
   ]
  },
  {
   "cell_type": "code",
   "execution_count": 9,
   "metadata": {},
   "outputs": [
    {
     "data": {
      "text/plain": [
       "[tensor([[1.1993],\n",
       "         [1.5869]], device='cuda:0', dtype=torch.float64),\n",
       " tensor([[-0.6357],\n",
       "         [-0.5430]], device='cuda:0', dtype=torch.float64),\n",
       " tensor([[ 1.3161],\n",
       "         [-0.4185]], device='cuda:0', dtype=torch.float64),\n",
       " tensor([[-0.5011],\n",
       "         [-0.9888]], device='cuda:0', dtype=torch.float64),\n",
       " tensor([[ 1.2242],\n",
       "         [-1.0559]], device='cuda:0', dtype=torch.float64),\n",
       " tensor([[-0.3508],\n",
       "         [-0.8669]], device='cuda:0', dtype=torch.float64),\n",
       " tensor([[0.5236],\n",
       "         [0.4405]], device='cuda:0', dtype=torch.float64),\n",
       " tensor([[-0.7479],\n",
       "         [ 0.4421]], device='cuda:0', dtype=torch.float64),\n",
       " tensor([[ 1.0474],\n",
       "         [-1.4641]], device='cuda:0', dtype=torch.float64),\n",
       " tensor([[-0.8154],\n",
       "         [-0.4103]], device='cuda:0', dtype=torch.float64)]"
      ]
     },
     "execution_count": 9,
     "metadata": {},
     "output_type": "execute_result"
    }
   ],
   "source": [
    "model.get_weights()"
   ]
  }
 ],
 "metadata": {
  "kernelspec": {
   "display_name": "hebbian",
   "language": "python",
   "name": "python3"
  },
  "language_info": {
   "codemirror_mode": {
    "name": "ipython",
    "version": 3
   },
   "file_extension": ".py",
   "mimetype": "text/x-python",
   "name": "python",
   "nbconvert_exporter": "python",
   "pygments_lexer": "ipython3",
   "version": "3.10.6"
  },
  "orig_nbformat": 4
 },
 "nbformat": 4,
 "nbformat_minor": 2
}
