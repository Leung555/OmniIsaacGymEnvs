{
 "cells": [
  {
   "attachments": {},
   "cell_type": "markdown",
   "metadata": {},
   "source": [
    "# RBF neural net"
   ]
  },
  {
   "cell_type": "code",
   "execution_count": 34,
   "metadata": {},
   "outputs": [],
   "source": [
    "from math import *\n",
    "import numpy as np\n",
    "import matplotlib.pyplot as plt\n",
    "import torch"
   ]
  },
  {
   "cell_type": "code",
   "execution_count": null,
   "metadata": {},
   "outputs": [],
   "source": [
    "# cpg model parameters\n",
    "MI = 0.02\n",
    "b1 = 0.01\n",
    "b2 = 0.01\n",
    "w11 = 1.4\n",
    "w12 = 0.18 + MI\n",
    "w21 = -0.18 - MI\n",
    "w22 = 1.4\n",
    "o1 = 0.01\n",
    "o2 = 0.01\n",
    "# W = [[w11,w21],[w12,w22]]\n",
    "# O = [o1, o2]"
   ]
  },
  {
   "cell_type": "code",
   "execution_count": null,
   "metadata": {},
   "outputs": [],
   "source": [
    "# cpg running\n",
    "cpg_out = []\n",
    "for i in range(300):\n",
    "    o1 = tanh(o1*w11 + o2*w12 )\n",
    "    o2 = tanh(o2*w22 + o1*w21 )\n",
    "    cpg_out.append([o1, o2])\n",
    "cpg_out = np.array(cpg_out)\n",
    "plt.figure(figsize=(4,2))\n",
    "plt.plot(cpg_out[:,0])\n",
    "plt.plot(cpg_out[:,1])\n",
    "# cpg_out"
   ]
  },
  {
   "cell_type": "code",
   "execution_count": null,
   "metadata": {},
   "outputs": [],
   "source": [
    "# SO2 oscillator from paper\n",
    "cpg_out = []\n",
    "omega = 0.01*pi\n",
    "o1, o2 = 0.01, 0.01\n",
    "for i in range(1000):\n",
    "    o1 = tanh(1.01*( o1*cos(omega) + o2*sin(omega)))\n",
    "    o2 = tanh(1.01*(-o1*sin(omega) + o2*cos(omega)))\n",
    "    cpg_out.append([o1, o2])\n",
    "cpg_out = np.array(cpg_out)\n",
    "plt.figure(figsize=(4,2))\n",
    "plt.plot(cpg_out[:,0])\n",
    "plt.plot(cpg_out[:,1])\n",
    "# cpg_out"
   ]
  },
  {
   "cell_type": "code",
   "execution_count": null,
   "metadata": {},
   "outputs": [],
   "source": [
    "import numpy as np\n",
    "import matplotlib.pyplot as plt\n",
    "\n",
    "def generate_rbf_array(input_range, num_basis, centers, widths, weights):\n",
    "    \"\"\"\n",
    "    Generates an array of Radial Basis Functions (RBFs) over a given input range.\n",
    "\n",
    "    Args:\n",
    "        input_range (tuple): Range of the input values (e.g., (0, 1)).\n",
    "        num_basis (int): Number of basis functions.\n",
    "        centers (ndarray): Array of centers for the basis functions.\n",
    "        widths (ndarray): Array of widths for the basis functions.\n",
    "\n",
    "    Returns:\n",
    "        ndarray: Array of RBFs evaluated over the input range.\n",
    "    \"\"\"\n",
    "    x = np.linspace(input_range[0], input_range[1], num=100)\n",
    "    rbf_array = np.zeros((num_basis, len(x)))\n",
    "\n",
    "    for i in range(num_basis):\n",
    "        rbf_array[i] = weights[i]*np.exp(-widths[i] * (x - centers[i]) ** 2)\n",
    "\n",
    "    return rbf_array\n",
    "\n",
    "# Example usage\n",
    "input_range = (-1, 1)\n",
    "num_basis = 10\n",
    "centers = np.linspace(input_range[0], input_range[1], num=num_basis)\n",
    "widths = np.ones(num_basis) * 100\n",
    "weights = np.random.randint(input_range[0], input_range[1]+1, 10,)\n",
    "\n",
    "rbf_array = generate_rbf_array(input_range, num_basis, centers, widths, weights)\n",
    "\n",
    "# Plotting the RBFs\n",
    "plt.figure(figsize=(8, 3))\n",
    "for i in range(num_basis):\n",
    "    plt.plot(np.linspace(input_range[0], input_range[1], num=100), rbf_array[i], label=f'RBF {i+1}')\n",
    "plt.xlabel('Input')\n",
    "plt.ylabel('RBF Value')\n",
    "plt.title('Array of Radial Basis Functions')\n",
    "# plt.legend()\n",
    "plt.show()"
   ]
  },
  {
   "cell_type": "code",
   "execution_count": null,
   "metadata": {},
   "outputs": [],
   "source": [
    "weights"
   ]
  },
  {
   "cell_type": "code",
   "execution_count": null,
   "metadata": {},
   "outputs": [],
   "source": [
    "# cycle checker\n",
    "T_step = 0\n",
    "counter = 0\n",
    "o1_p = 0\n",
    "# for i in range(10000):\n",
    "#     o1 = math.tanh(o1*w11 + o2*w12 )\n",
    "#     o2 = math.tanh(o2*w22 + o1*w21 )\n",
    "cpg_out = []\n",
    "omega = 0.01*pi\n",
    "o1, o2 = 0.01, 0.01\n",
    "cpg_out = []\n",
    "# Rbf network\n",
    "input_range = (-1, 1)\n",
    "num_basis = 10\n",
    "centers = np.linspace(input_range[0], input_range[1], num=num_basis)\n",
    "widths = np.ones(num_basis) * 100\n",
    "x = np.linspace(input_range[0], input_range[1], num=100)\n",
    "# weights = np.arange(input_range[0], input_range[1], 0.1)\n",
    "rbf_array = np.zeros((num_basis, len(x)))\n",
    "T_step = 201\n",
    "phase = 0 # phase of oscillator\n",
    "phase_array = []\n",
    "for step in range(376):\n",
    "    o1 = tanh(1.01*( o1*cos(omega) + o2*sin(omega)))\n",
    "    o2 = tanh(1.01*(-o1*sin(omega) + o2*cos(omega)))\n",
    "\n",
    "for step in range(600):\n",
    "    o1 = tanh(1.01*( o1*cos(omega) + o2*sin(omega)))\n",
    "    o2 = tanh(1.01*(-o1*sin(omega) + o2*cos(omega)))\n",
    "    # phase = counter/T_step\n",
    "    # print(t)\n",
    "    # phase_array.append(phase)\n",
    "    # cpg_out.append(o1)\n",
    "    # counter += 1\n",
    "    if o1_p < 0 and o1 > 0:\n",
    "        T_step = counter\n",
    "        print('T_step', T_step)\n",
    "        print(T_step)\n",
    "        print(o1_p, o1)\n",
    "        print('cpg_out: ', len(cpg_out))\n",
    "        print('phase_array: ', len(phase_array))\n",
    "        # print('x: ', x)\n",
    "        # RBF function\n",
    "        rbf_array = np.zeros((num_basis, T_step))\n",
    "        print('rbf_array: ', rbf_array.shape)\n",
    "        for i in range(num_basis):\n",
    "            rbf_array[i] = np.exp(-widths[i] * (phase_array - centers[i]) ** 2)\n",
    "        counter = 0\n",
    "        # Plotting the RBFs\n",
    "        # plt.figure(figsize=(8, 3))\n",
    "        # for i in range(num_basis):\n",
    "        #     plt.plot(np.linspace(input_range[0], input_range[1], num=len(phase_array)), rbf_array[i], label=f'RBF {i+1}')\n",
    "        # plt.plot(phase_array, np.sum(rbf_array, axis=0))\n",
    "        # plt.plot(phase_array, cpg_out)\n",
    "        # plt.xlabel('Input')\n",
    "        # plt.ylabel('RBF Value')\n",
    "        # plt.title('Array of Radial Basis Functions')\n",
    "        # # plt.legend()\n",
    "        # plt.show()\n",
    "        cpg_out = []\n",
    "        phase_array = []\n",
    "    o1_p = o1\n"
   ]
  },
  {
   "cell_type": "code",
   "execution_count": null,
   "metadata": {},
   "outputs": [],
   "source": [
    "# RBF network re-produce paper\n",
    "T_step = 0\n",
    "counter = 0\n",
    "o1_p = 0\n",
    "# for i in range(10000):\n",
    "#     o1 = math.tanh(o1*w11 + o2*w12 )\n",
    "#     o2 = math.tanh(o2*w22 + o1*w21 )\n",
    "cpg_out = []\n",
    "omega = 0.01*pi\n",
    "o1, o2 = 0.01, 0.01\n",
    "cpg_out = []\n",
    "# Rbf network\n",
    "input_range = (-1, 1)\n",
    "num_basis = 20\n",
    "num_output = 2\n",
    "centers = np.linspace(input_range[0], input_range[1], num=num_basis)\n",
    "# widths = np.ones(num_basis) * 100\n",
    "variance = 1/0.04\n",
    "x = np.linspace(input_range[0], input_range[1], num=100)\n",
    "# weights = np.arange(input_range[0], input_range[1], 0.1)\n",
    "# weights = np.random.randint(input_range[0], input_range[1]+1, num_basis,)\n",
    "weights = np.random.randn(num_output, num_basis)\n",
    "\n",
    "# rbf_array = np.zeros((num_basis, len(x)))\n",
    "rbf_array = []\n",
    "T_step = 201\n",
    "phase = 0 # phase of oscillator\n",
    "phase_array = []\n",
    "for step in range(376):\n",
    "    o1 = tanh(1.01*( o1*cos(omega) + o2*sin(omega)))\n",
    "    o2 = tanh(1.01*(-o1*sin(omega) + o2*cos(omega)))\n",
    "    print('o1, o2: ', o1, o2)\n",
    "\n",
    "for step in range(1000):\n",
    "    o1 = tanh(1.01*( o1*cos(omega) + o2*sin(omega)))\n",
    "    o2 = tanh(1.01*(-o1*sin(omega) + o2*cos(omega)))\n",
    "    cpg_out = [[o1], [o2]]\n",
    "    # print('o1', o1)\n",
    "    rbf_array.append(np.sum(weights*np.exp(-variance*(cpg_out - centers) ** 2), axis=1))\n",
    "    \n",
    "    if o1_p < 0 and o1 > 0:\n",
    "        counter = 0\n",
    "        plt.plot(rbf_array)\n",
    "        rbf_array = []\n",
    "        weights = np.random.randn(num_output, num_basis)\n",
    "        # print('weights: ', weights)\n",
    "    o1_p = o1\n"
   ]
  },
  {
   "cell_type": "code",
   "execution_count": null,
   "metadata": {},
   "outputs": [],
   "source": [
    "from rbf_neural_net import RBFNet"
   ]
  },
  {
   "cell_type": "code",
   "execution_count": null,
   "metadata": {},
   "outputs": [],
   "source": [
    "model = RBFNet(1)"
   ]
  },
  {
   "cell_type": "code",
   "execution_count": null,
   "metadata": {},
   "outputs": [],
   "source": [
    "output = []\n",
    "for i in range(300):\n",
    "    output.append(model.forward())\n",
    "    # print('output: ', output)\n",
    "plt.plot(output)"
   ]
  },
  {
   "cell_type": "code",
   "execution_count": null,
   "metadata": {},
   "outputs": [],
   "source": []
  },
  {
   "attachments": {},
   "cell_type": "markdown",
   "metadata": {},
   "source": [
    "### Test RBF GPU version"
   ]
  },
  {
   "cell_type": "code",
   "execution_count": 10,
   "metadata": {},
   "outputs": [],
   "source": [
    "POPSIZE = 2\n",
    "omega = 0.01*np.pi\n",
    "o1 = torch.Tensor.repeat(torch.Tensor([0.00]), POPSIZE).unsqueeze(1)\n",
    "o2 = torch.Tensor.repeat(torch.Tensor([0.18]), POPSIZE).unsqueeze(1)\n",
    "O = torch.Tensor([[0.01, 0.18]]).expand(POPSIZE, 2)\n",
    "# Rbf network\n",
    "input_range = (-1, 1)\n",
    "num_basis = 10\n",
    "num_output = 1\n",
    "centers = torch.linspace(input_range[0], input_range[1], num_basis)\n",
    "variance = 1/0.04\n",
    "weights = torch.randn(num_basis, POPSIZE, num_output,)\n",
    "rbf_array = []\n",
    "W = torch.Tensor([[ cos(omega) ,  -sin(omega)], \n",
    "                  [ sin(omega) ,  cos(omega)]])"
   ]
  },
  {
   "cell_type": "code",
   "execution_count": 14,
   "metadata": {},
   "outputs": [
    {
     "data": {
      "text/plain": [
       "tensor([[0.0100, 0.1800]])"
      ]
     },
     "execution_count": 14,
     "metadata": {},
     "output_type": "execute_result"
    }
   ],
   "source": [
    "torch.Tensor([[0.01, 0.18]])"
   ]
  },
  {
   "cell_type": "code",
   "execution_count": 58,
   "metadata": {},
   "outputs": [
    {
     "data": {
      "text/plain": [
       "[<matplotlib.lines.Line2D at 0x7f6721dc99c0>,\n",
       " <matplotlib.lines.Line2D at 0x7f6721dc99f0>]"
      ]
     },
     "execution_count": 58,
     "metadata": {},
     "output_type": "execute_result"
    },
    {
     "data": {
      "image/png": "[encoded data removed]",
      "text/plain": [
       "<Figure size 640x480 with 1 Axes>"
      ]
     },
     "metadata": {},
     "output_type": "display_data"
    }
   ],
   "source": [
    "output = []\n",
    "with torch.no_grad():\n",
    "    for i in range(400):\n",
    "        # o1 = torch.tanh(1.01*( o1p*cos(omega) + o2p*sin(omega)))\n",
    "        # o2 = torch.tanh(1.01*(-o1p*sin(omega) + o2p*cos(omega)))\n",
    "        O = torch.tanh(1.01*torch.matmul(O, W))\n",
    "        # print('o1', o1)\n",
    "        # posto1 = torch.sum(weights[0]*np.exp(variance*(o1 - centers)), dim=1)\n",
    "        # posto2 = torch.sum(weights[1]*np.exp(variance*(o2 - centers)), dim=1)\n",
    "        post = weights*torch.exp(-variance*(O - \n",
    "            centers.expand(POPSIZE*2,num_basis).transpose(0,1).\n",
    "            reshape(num_basis,POPSIZE,2)) ** 2)\n",
    "        \n",
    "        # cpg_out = torch.stack([posto1,posto2])\n",
    "        output.append(post.tolist())\n",
    "        o1p = o1\n",
    "        o2p = o2\n",
    "plt.plot(np.array(output)[:,0,0])\n",
    "plt.plot(np.array(output)[:,0,1])\n",
    "# plt.plot(output[:,1:2])"
   ]
  },
  {
   "cell_type": "code",
   "execution_count": 63,
   "metadata": {},
   "outputs": [
    {
     "data": {
      "text/plain": [
       "tensor([0.5859, 0.1788])"
      ]
     },
     "execution_count": 63,
     "metadata": {},
     "output_type": "execute_result"
    }
   ],
   "source": [
    "torch.sum(post, dim=[0,2])"
   ]
  },
  {
   "cell_type": "code",
   "execution_count": 33,
   "metadata": {},
   "outputs": [
    {
     "data": {
      "text/plain": [
       "tensor([[-1.3842e-10, -2.6447e-16],\n",
       "        [ 1.7015e-10,  3.2509e-16]])"
      ]
     },
     "execution_count": 33,
     "metadata": {},
     "output_type": "execute_result"
    }
   ],
   "source": [
    "a = weights*np.exp(-variance*(O - \n",
    "            centers.expand(POPSIZE*2,num_basis).transpose(0,1).\n",
    "            reshape(num_basis,POPSIZE,2)) ** 2)\n",
    "torch.sum(torch.eye)"
   ]
  },
  {
   "cell_type": "code",
   "execution_count": 37,
   "metadata": {},
   "outputs": [
    {
     "ename": "TypeError",
     "evalue": "eye() received an invalid combination of arguments - got (int, int, int), but expected one of:\n * (int n, *, Tensor out, torch.dtype dtype, torch.layout layout, torch.device device, bool pin_memory, bool requires_grad)\n * (int n, int m, *, Tensor out, torch.dtype dtype, torch.layout layout, torch.device device, bool pin_memory, bool requires_grad)\n",
     "output_type": "error",
     "traceback": [
      "\u001b[0;31m---------------------------------------------------------------------------\u001b[0m",
      "\u001b[0;31mTypeError\u001b[0m                                 Traceback (most recent call last)",
      "Cell \u001b[0;32mIn[37], line 1\u001b[0m\n\u001b[0;32m----> 1\u001b[0m torch\u001b[39m.\u001b[39msum(torch\u001b[39m.\u001b[39;49meye(\u001b[39m2\u001b[39;49m,\u001b[39m2\u001b[39;49m,\u001b[39m2\u001b[39;49m), dim\u001b[39m=\u001b[39m[\u001b[39m0\u001b[39m])\n",
      "\u001b[0;31mTypeError\u001b[0m: eye() received an invalid combination of arguments - got (int, int, int), but expected one of:\n * (int n, *, Tensor out, torch.dtype dtype, torch.layout layout, torch.device device, bool pin_memory, bool requires_grad)\n * (int n, int m, *, Tensor out, torch.dtype dtype, torch.layout layout, torch.device device, bool pin_memory, bool requires_grad)\n"
     ]
    }
   ],
   "source": [
    "torch.sum(torch.eye(2,2,2), dim=[0])"
   ]
  },
  {
   "cell_type": "code",
   "execution_count": 56,
   "metadata": {},
   "outputs": [
    {
     "data": {
      "text/plain": [
       "tensor([[2., 4.],\n",
       "        [0., 0.]])"
      ]
     },
     "execution_count": 56,
     "metadata": {},
     "output_type": "execute_result"
    }
   ],
   "source": [
    "torch.sum(torch.Tensor([[[1,1], \n",
    "            [2,2]], \n",
    "            [[0,0], \n",
    "            [0,0]]]), dim=[2])"
   ]
  },
  {
   "cell_type": "code",
   "execution_count": null,
   "metadata": {},
   "outputs": [],
   "source": [
    "# torch.einsum('bp,bqr->bpqr', v, M) # batch-wise operation v.shape=(b,p) M.shape=(b,q,r)\n",
    "# torch.einsum('p,qr->pqr', v, M)    # cross-batch operation\n",
    "\n",
    "torch.einsum('p,qr->pqr', -centers, O)    # cross-batch operation\n"
   ]
  },
  {
   "cell_type": "code",
   "execution_count": 16,
   "metadata": {},
   "outputs": [],
   "source": [
    "from rbf_neural_net import RBFNet\n",
    "model = RBFNet(2, 1)"
   ]
  },
  {
   "cell_type": "code",
   "execution_count": 17,
   "metadata": {},
   "outputs": [
    {
     "data": {
      "text/plain": [
       "tensor([[0.9479, 0.4913],\n",
       "        [1.4475, 0.9900]], device='cuda:0')"
      ]
     },
     "execution_count": 17,
     "metadata": {},
     "output_type": "execute_result"
    }
   ],
   "source": [
    "model.forward()"
   ]
  },
  {
   "cell_type": "code",
   "execution_count": 18,
   "metadata": {},
   "outputs": [
    {
     "data": {
      "text/plain": [
       "array([ 0.06230127,  0.25622773, -1.4507684 , -0.776767  ,  1.1257079 ,\n",
       "        0.26371974,  0.291008  , -1.3694811 ,  1.1670934 ,  0.3386766 ],\n",
       "      dtype=float32)"
      ]
     },
     "execution_count": 18,
     "metadata": {},
     "output_type": "execute_result"
    }
   ],
   "source": [
    "model.get_params_a_model()"
   ]
  },
  {
   "cell_type": "code",
   "execution_count": 5,
   "metadata": {},
   "outputs": [
    {
     "data": {
      "text/plain": [
       "array([ 1.4102287 ,  0.6277361 ,  0.56547713, -1.6088862 , -1.5049154 ,\n",
       "        0.5314756 , -0.05568573, -0.02828681,  0.03879198, -0.01754425,\n",
       "       -0.30321008,  0.0839266 , -0.40492538,  0.5860087 ,  0.31059295,\n",
       "        0.4826061 , -0.31220606,  0.16438088,  0.09907182,  1.1455259 ],\n",
       "      dtype=float32)"
      ]
     },
     "execution_count": 5,
     "metadata": {},
     "output_type": "execute_result"
    }
   ],
   "source": [
    "model.get_params()"
   ]
  },
  {
   "cell_type": "code",
   "execution_count": 6,
   "metadata": {},
   "outputs": [
    {
     "data": {
      "text/plain": [
       "tensor([[[ 1.4102],\n",
       "         [ 0.6277]],\n",
       "\n",
       "        [[ 0.5655],\n",
       "         [-1.6089]],\n",
       "\n",
       "        [[-1.5049],\n",
       "         [ 0.5315]],\n",
       "\n",
       "        [[-0.0557],\n",
       "         [-0.0283]],\n",
       "\n",
       "        [[ 0.0388],\n",
       "         [-0.0175]],\n",
       "\n",
       "        [[-0.3032],\n",
       "         [ 0.0839]],\n",
       "\n",
       "        [[-0.4049],\n",
       "         [ 0.5860]],\n",
       "\n",
       "        [[ 0.3106],\n",
       "         [ 0.4826]],\n",
       "\n",
       "        [[-0.3122],\n",
       "         [ 0.1644]],\n",
       "\n",
       "        [[ 0.0991],\n",
       "         [ 1.1455]]], device='cuda:0')"
      ]
     },
     "execution_count": 6,
     "metadata": {},
     "output_type": "execute_result"
    }
   ],
   "source": [
    "model.weights"
   ]
  },
  {
   "cell_type": "code",
   "execution_count": 7,
   "metadata": {},
   "outputs": [],
   "source": [
    "model.set_params(np.random.randn(2,1,10).flatten())"
   ]
  },
  {
   "cell_type": "code",
   "execution_count": 8,
   "metadata": {},
   "outputs": [
    {
     "data": {
      "text/plain": [
       "array([-1.01640666,  0.84860013,  1.79264544,  0.09459468, -0.80453952,\n",
       "       -0.68723667,  0.04438239,  1.53936716, -1.13220157, -0.67814333,\n",
       "       -0.02244636, -1.22416589,  2.59157711, -2.3961546 , -1.67875475,\n",
       "       -0.52285505,  0.45370571, -0.69159209,  0.38836375,  2.1324957 ])"
      ]
     },
     "execution_count": 8,
     "metadata": {},
     "output_type": "execute_result"
    }
   ],
   "source": [
    "np.random.randn(2,1,10).flatten()"
   ]
  },
  {
   "cell_type": "code",
   "execution_count": 9,
   "metadata": {},
   "outputs": [
    {
     "data": {
      "text/plain": [
       "[tensor([[1.1993],\n",
       "         [1.5869]], device='cuda:0', dtype=torch.float64),\n",
       " tensor([[-0.6357],\n",
       "         [-0.5430]], device='cuda:0', dtype=torch.float64),\n",
       " tensor([[ 1.3161],\n",
       "         [-0.4185]], device='cuda:0', dtype=torch.float64),\n",
       " tensor([[-0.5011],\n",
       "         [-0.9888]], device='cuda:0', dtype=torch.float64),\n",
       " tensor([[ 1.2242],\n",
       "         [-1.0559]], device='cuda:0', dtype=torch.float64),\n",
       " tensor([[-0.3508],\n",
       "         [-0.8669]], device='cuda:0', dtype=torch.float64),\n",
       " tensor([[0.5236],\n",
       "         [0.4405]], device='cuda:0', dtype=torch.float64),\n",
       " tensor([[-0.7479],\n",
       "         [ 0.4421]], device='cuda:0', dtype=torch.float64),\n",
       " tensor([[ 1.0474],\n",
       "         [-1.4641]], device='cuda:0', dtype=torch.float64),\n",
       " tensor([[-0.8154],\n",
       "         [-0.4103]], device='cuda:0', dtype=torch.float64)]"
      ]
     },
     "execution_count": 9,
     "metadata": {},
     "output_type": "execute_result"
    }
   ],
   "source": [
    "model.get_weights()"
   ]
  }
 ],
 "metadata": {
  "kernelspec": {
   "display_name": "hebbian",
   "language": "python",
   "name": "python3"
  },
  "language_info": {
   "codemirror_mode": {
    "name": "ipython",
    "version": 3
   },
   "file_extension": ".py",
   "mimetype": "text/x-python",
   "name": "python",
   "nbconvert_exporter": "python",
   "pygments_lexer": "ipython3",
   "version": "3.10.6"
  },
  "orig_nbformat": 4
 },
 "nbformat": 4,
 "nbformat_minor": 2
}
